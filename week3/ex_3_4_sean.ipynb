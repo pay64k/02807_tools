{
 "cells": [
  {
   "cell_type": "code",
   "execution_count": 351,
   "metadata": {
    "collapsed": false
   },
   "outputs": [],
   "source": [
    "import numpy as np\n",
    "import pandas as pd\n",
    "from sklearn.linear_model import LogisticRegression\n",
    "from sklearn.cross_validation import train_test_split\n",
    "from sklearn.cross_validation import cross_val_score\n",
    "from sklearn import linear_model, datasets\n",
    "from collections import Counter\n",
    "\n",
    "# reading the file with words for ex 2-3\n",
    "f = open('words_list.txt', 'r')\n",
    "b=\"\"\n",
    "# convert information to a list\n",
    "for lin in f:\n",
    "    b=b+lin\n",
    "c= [x for x in b.split(',')]\n",
    "#c=str(b[0]).split(',')\n",
    "#c=np.array(c)\n",
    "#print c[1]"
   ]
  },
  {
   "cell_type": "code",
   "execution_count": 352,
   "metadata": {
    "collapsed": false
   },
   "outputs": [
    {
     "name": "stdout",
     "output_type": "stream",
     "text": [
      "it is exist 13385\n"
     ]
    }
   ],
   "source": [
    "# use counter to find the time of the each word used\n",
    "bag_words=Counter(c)\n",
    "\n",
    "bag_words= sorted(bag_words.items(), key=lambda item: item[1])\n",
    "\n",
    "# creating X and y for fitting in the Regression model\n",
    "itemnr=0\n",
    "Xitem=[]\n",
    "X=[]\n",
    "y=[]\n",
    "for e in bag_words:\n",
    "    \n",
    "    #print 'item',e[0]\n",
    "    #print 'amount',e[1]\n",
    "    itemnr=itemnr+1\n",
    "    Xitem.append([e[0],itemnr])\n",
    "    X.append(itemnr)\n",
    "    if e[0]==\" u'received'\":\n",
    "        print 'it is exist', itemnr\n",
    "    # if we use the amount of the accured items we leed to the multiply classes which bring the accuracy down\n",
    "    y.append(e[1])\n",
    "    #if e[1]==1:\n",
    "    #    y.append(0)\n",
    "    #else:\n",
    "    #    y.append(1)\n",
    "#    y=bag_words(e)\n",
    "X=np.array(X)\n",
    "X=X.reshape(len(X), 1)\n",
    "#y=np.array(y)\n",
    "y = np.ravel(y)\n",
    "#print X"
   ]
  },
  {
   "cell_type": "code",
   "execution_count": 353,
   "metadata": {
    "collapsed": false
   },
   "outputs": [
    {
     "name": "stdout",
     "output_type": "stream",
     "text": [
      "Accuracy:  0.512968299712\n",
      "\n"
     ]
    }
   ],
   "source": [
    "X_train, X_test, y_train, y_test = train_test_split(X, y, test_size=0.1, random_state=42)\n",
    "\n",
    "model = LogisticRegression()\n",
    "model = model.fit(X_train, y_train)\n",
    "\n",
    "# check the accuracy on the training set\n",
    "print \"Accuracy: \",model.score(X_test, y_test)\n",
    "print"
   ]
  },
  {
   "cell_type": "code",
   "execution_count": 354,
   "metadata": {
    "collapsed": false
   },
   "outputs": [
    {
     "name": "stdout",
     "output_type": "stream",
     "text": [
      "[ 0.44610592  0.4937931   0.50924609  0.51734104  0.52492669  0.52919438\n",
      "  0.53318419  0.53598201  0.5404384   0.54290053]\n",
      "0.517311234917\n"
     ]
    }
   ],
   "source": [
    "scores = cross_val_score(LogisticRegression(), X, y, scoring='accuracy', cv=10)\n",
    "print scores\n",
    "print scores.mean()"
   ]
  },
  {
   "cell_type": "code",
   "execution_count": 356,
   "metadata": {
    "collapsed": false
   },
   "outputs": [
    {
     "name": "stdout",
     "output_type": "stream",
     "text": [
      "\n",
      "[2]\n"
     ]
    }
   ],
   "source": [
    "#Xitemdic=dict(Xitem)\n",
    "#print Xitem\n",
    "#print Xitem\n",
    "Xitemarr=dict(Xitem)\n",
    "#inv_Xitemarr = {v: k for k, v in Xitemarr.items()}\n",
    "print \n",
    "#print Xitemarr   requester _ received _ pizza\n",
    "perdicitem=\" u'requester'\"\n",
    "itemnrforperdict=Xitemarr[perdicitem]\n",
    "print model.predict(itemnrforperdict)"
   ]
  },
  {
   "cell_type": "code",
   "execution_count": null,
   "metadata": {
    "collapsed": true
   },
   "outputs": [],
   "source": [
    ""
   ]
  }
 ],
 "metadata": {
  "kernelspec": {
   "display_name": "Python 2",
   "language": "python",
   "name": "python2"
  },
  "language_info": {
   "codemirror_mode": {
    "name": "ipython",
    "version": 2.0
   },
   "file_extension": ".py",
   "mimetype": "text/x-python",
   "name": "python",
   "nbconvert_exporter": "python",
   "pygments_lexer": "ipython2",
   "version": "2.7.12"
  }
 },
 "nbformat": 4,
 "nbformat_minor": 0
}
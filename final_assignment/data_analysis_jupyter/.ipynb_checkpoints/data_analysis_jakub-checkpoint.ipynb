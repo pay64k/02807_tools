{
 "cells": [
  {
   "cell_type": "code",
   "execution_count": 2,
   "metadata": {
    "collapsed": true
   },
   "outputs": [],
   "source": [
    "def read_from_file(file, actors_amount):\n",
    "\n",
    "    if actors_amount == 6:\n",
    "\n",
    "        movies = {}\n",
    "\n",
    "        with open('files/' + file) as csvfile:\n",
    "            reader = csv.DictReader(csvfile, delimiter=\"\\t\")\n",
    "            for entry in reader:\n",
    "                movies[\n",
    "                    entry[\"title\"]\n",
    "                ] = {\n",
    "                    \"director\": entry[\"director\"],\n",
    "                    \"rating\": entry[\"rating\"],\n",
    "                    \"votes\": entry[\"votes\"],\n",
    "                    \"year\": entry[\"year\"],\n",
    "                    \"genre\": entry[\"genre\"],\n",
    "                    \"gross\": entry[\"gross\"],\n",
    "                    \"budget\": entry[\"budget\"],\n",
    "                    \"run-time\": entry[\"run-time\"],\n",
    "                    \"actor1\": entry[\"actor1\"],\n",
    "                    \"actor1_rank\": entry[\"actor1_rank\"],\n",
    "                    \"actor1_sex\": entry[\"actor1_sex\"],\n",
    "                    \"actor2\": entry[\"actor2\"],\n",
    "                    \"actor2_rank\": entry[\"actor2_rank\"],\n",
    "                    \"actor2_sex\": entry[\"actor2_sex\"],\n",
    "                    \"actor3\": entry[\"actor3\"],\n",
    "                    \"actor3_rank\": entry[\"actor3_rank\"],\n",
    "                    \"actor3_sex\": entry[\"actor3_sex\"],\n",
    "                    \"actor4\": entry[\"actor4\"],\n",
    "                    \"actor4_rank\": entry[\"actor4_rank\"],\n",
    "                    \"actor4_sex\": entry[\"actor4_sex\"],\n",
    "                    \"actor5\": entry[\"actor5\"],\n",
    "                    \"actor5_rank\": entry[\"actor5_rank\"],\n",
    "                    \"actor5_sex\": entry[\"actor5_sex\"],\n",
    "                    \"actor6\": entry[\"actor6\"],\n",
    "                    \"actor6_rank\": entry[\"actor6_rank\"],\n",
    "                    \"actor6_sex\": entry[\"actor6_sex\"],\n",
    "                    \"plot\": entry[\"plot\"]\n",
    "                }\n",
    "        return movies\n",
    "\n",
    "    if actors_amount == 3:\n",
    "\n",
    "        movies = {}\n",
    "\n",
    "        with open('files/' + file) as csvfile:\n",
    "            reader = csv.DictReader(csvfile, delimiter=\"\\t\")\n",
    "            for entry in reader:\n",
    "                movies[\n",
    "                    entry[\"title\"]\n",
    "                ] = {\n",
    "                    \"director\": entry[\"director\"],\n",
    "                    \"rating\": entry[\"rating\"],\n",
    "                    \"votes\": entry[\"votes\"],\n",
    "                    \"year\": entry[\"year\"],\n",
    "                    \"genre\": entry[\"genre\"],\n",
    "                    \"gross\": entry[\"gross\"],\n",
    "                    \"budget\": entry[\"budget\"],\n",
    "                    \"run-time\": entry[\"run-time\"],\n",
    "                    \"actor1\": entry[\"actor1\"],\n",
    "                    \"actor1_rank\": entry[\"actor1_rank\"],\n",
    "                    \"actor1_sex\": entry[\"actor1_sex\"],\n",
    "                    \"actor2\": entry[\"actor2\"],\n",
    "                    \"actor2_rank\": entry[\"actor2_rank\"],\n",
    "                    \"actor2_sex\": entry[\"actor2_sex\"],\n",
    "                    \"actor3\": entry[\"actor3\"],\n",
    "                    \"actor3_rank\": entry[\"actor3_rank\"],\n",
    "                    \"actor3_sex\": entry[\"actor3_sex\"],\n",
    "                    \"plot\": entry[\"plot\"]\n",
    "                }\n",
    "        return movies"
   ]
  },
  {
   "cell_type": "code",
   "execution_count": null,
   "metadata": {
    "collapsed": true
   },
   "outputs": [],
   "source": []
  }
 ],
 "metadata": {
  "anaconda-cloud": {},
  "kernelspec": {
   "display_name": "Python [conda root]",
   "language": "python",
   "name": "conda-root-py"
  },
  "language_info": {
   "codemirror_mode": {
    "name": "ipython",
    "version": 2
   },
   "file_extension": ".py",
   "mimetype": "text/x-python",
   "name": "python",
   "nbconvert_exporter": "python",
   "pygments_lexer": "ipython2",
   "version": "2.7.12"
  }
 },
 "nbformat": 4,
 "nbformat_minor": 1
}

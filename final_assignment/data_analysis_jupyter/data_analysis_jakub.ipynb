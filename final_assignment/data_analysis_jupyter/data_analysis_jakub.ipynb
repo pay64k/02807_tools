{
 "cells": [
  {
   "cell_type": "code",
   "execution_count": 10,
   "metadata": {
    "collapsed": false
   },
   "outputs": [
    {
     "ename": "ImportError",
     "evalue": "No module named itemgetter",
     "output_type": "error",
     "traceback": [
      "\u001b[0;31m---------------------------------------------------------------------------\u001b[0m",
      "\u001b[0;31mImportError\u001b[0m                               Traceback (most recent call last)",
      "\u001b[0;32m<ipython-input-10-402dacb026bb>\u001b[0m in \u001b[0;36m<module>\u001b[0;34m()\u001b[0m\n\u001b[1;32m      1\u001b[0m \u001b[1;31m# all imports here\u001b[0m\u001b[1;33m\u001b[0m\u001b[1;33m\u001b[0m\u001b[0m\n\u001b[0;32m----> 2\u001b[0;31m \u001b[1;32mimport\u001b[0m \u001b[0mcsv\u001b[0m\u001b[1;33m,\u001b[0m \u001b[0mitemgetter\u001b[0m\u001b[1;33m\u001b[0m\u001b[0m\n\u001b[0m",
      "\u001b[0;31mImportError\u001b[0m: No module named itemgetter"
     ]
    }
   ],
   "source": [
    "# all imports here\n",
    "import csv, itemgetter"
   ]
  },
  {
   "cell_type": "code",
   "execution_count": 8,
   "metadata": {
    "collapsed": false
   },
   "outputs": [],
   "source": [
    "def read_from_file(file, actors_amount):\n",
    "\n",
    "    if actors_amount == 6:\n",
    "\n",
    "        movies = {}\n",
    "\n",
    "        with open(file) as csvfile:\n",
    "            reader = csv.DictReader(csvfile, delimiter=\"\\t\")\n",
    "            for entry in reader:\n",
    "                movies[\n",
    "                    entry[\"title\"]\n",
    "                ] = {\n",
    "                    \"director\": entry[\"director\"],\n",
    "                    \"rating\": entry[\"rating\"],\n",
    "                    \"votes\": entry[\"votes\"],\n",
    "                    \"year\": entry[\"year\"],\n",
    "                    \"genre\": entry[\"genre\"],\n",
    "                    \"gross\": entry[\"gross\"],\n",
    "                    \"budget\": entry[\"budget\"],\n",
    "                    \"run-time\": entry[\"run-time\"],\n",
    "                    \"actor1\": entry[\"actor1\"],\n",
    "                    \"actor1_rank\": entry[\"actor1_rank\"],\n",
    "                    \"actor1_sex\": entry[\"actor1_sex\"],\n",
    "                    \"actor2\": entry[\"actor2\"],\n",
    "                    \"actor2_rank\": entry[\"actor2_rank\"],\n",
    "                    \"actor2_sex\": entry[\"actor2_sex\"],\n",
    "                    \"actor3\": entry[\"actor3\"],\n",
    "                    \"actor3_rank\": entry[\"actor3_rank\"],\n",
    "                    \"actor3_sex\": entry[\"actor3_sex\"],\n",
    "                    \"actor4\": entry[\"actor4\"],\n",
    "                    \"actor4_rank\": entry[\"actor4_rank\"],\n",
    "                    \"actor4_sex\": entry[\"actor4_sex\"],\n",
    "                    \"actor5\": entry[\"actor5\"],\n",
    "                    \"actor5_rank\": entry[\"actor5_rank\"],\n",
    "                    \"actor5_sex\": entry[\"actor5_sex\"],\n",
    "                    \"actor6\": entry[\"actor6\"],\n",
    "                    \"actor6_rank\": entry[\"actor6_rank\"],\n",
    "                    \"actor6_sex\": entry[\"actor6_sex\"],\n",
    "                    \"plot\": entry[\"plot\"]\n",
    "                }\n",
    "        return movies\n",
    "\n",
    "    if actors_amount == 3:\n",
    "\n",
    "        movies = {}\n",
    "\n",
    "        with open(file) as csvfile:\n",
    "            reader = csv.DictReader(csvfile, delimiter=\"\\t\")\n",
    "            for entry in reader:\n",
    "                movies[\n",
    "                    entry[\"title\"]\n",
    "                ] = {\n",
    "                    \"director\": entry[\"director\"],\n",
    "                    \"rating\": entry[\"rating\"],\n",
    "                    \"votes\": entry[\"votes\"],\n",
    "                    \"year\": entry[\"year\"],\n",
    "                    \"genre\": entry[\"genre\"],\n",
    "                    \"gross\": entry[\"gross\"],\n",
    "                    \"budget\": entry[\"budget\"],\n",
    "                    \"run-time\": entry[\"run-time\"],\n",
    "                    \"actor1\": entry[\"actor1\"],\n",
    "                    \"actor1_rank\": entry[\"actor1_rank\"],\n",
    "                    \"actor1_sex\": entry[\"actor1_sex\"],\n",
    "                    \"actor2\": entry[\"actor2\"],\n",
    "                    \"actor2_rank\": entry[\"actor2_rank\"],\n",
    "                    \"actor2_sex\": entry[\"actor2_sex\"],\n",
    "                    \"actor3\": entry[\"actor3\"],\n",
    "                    \"actor3_rank\": entry[\"actor3_rank\"],\n",
    "                    \"actor3_sex\": entry[\"actor3_sex\"],\n",
    "                    \"plot\": entry[\"plot\"]\n",
    "                }\n",
    "        return movies\n",
    "    \n",
    "movies_main = read_from_file('imdb_dataset_v6.0.2_3_actors_comple.tsv',3)"
   ]
  },
  {
   "cell_type": "code",
   "execution_count": 9,
   "metadata": {
    "collapsed": false
   },
   "outputs": [
    {
     "ename": "NameError",
     "evalue": "global name 'itemgetter' is not defined",
     "output_type": "error",
     "traceback": [
      "\u001b[0;31m---------------------------------------------------------------------------\u001b[0m",
      "\u001b[0;31mNameError\u001b[0m                                 Traceback (most recent call last)",
      "\u001b[0;32m<ipython-input-9-83f22b003074>\u001b[0m in \u001b[0;36m<module>\u001b[0;34m()\u001b[0m\n\u001b[1;32m      6\u001b[0m     \u001b[1;32mreturn\u001b[0m \u001b[0mresult\u001b[0m\u001b[1;33m\u001b[0m\u001b[0m\n\u001b[1;32m      7\u001b[0m \u001b[1;33m\u001b[0m\u001b[0m\n\u001b[0;32m----> 8\u001b[0;31m \u001b[1;32mprint\u001b[0m \u001b[0mfind_grossing_movies\u001b[0m\u001b[1;33m(\u001b[0m\u001b[0mmovies_main\u001b[0m\u001b[1;33m)\u001b[0m\u001b[1;33m[\u001b[0m\u001b[1;33m:\u001b[0m\u001b[1;36m10\u001b[0m\u001b[1;33m]\u001b[0m\u001b[1;33m\u001b[0m\u001b[0m\n\u001b[0m",
      "\u001b[0;32m<ipython-input-9-83f22b003074>\u001b[0m in \u001b[0;36mfind_grossing_movies\u001b[0;34m(movies_data)\u001b[0m\n\u001b[1;32m      3\u001b[0m     \u001b[1;32mfor\u001b[0m \u001b[0mtitle\u001b[0m \u001b[1;32min\u001b[0m \u001b[0mmovies_data\u001b[0m\u001b[1;33m:\u001b[0m\u001b[1;33m\u001b[0m\u001b[0m\n\u001b[1;32m      4\u001b[0m         \u001b[0mgross\u001b[0m\u001b[1;33m.\u001b[0m\u001b[0mappend\u001b[0m\u001b[1;33m(\u001b[0m\u001b[1;33m[\u001b[0m\u001b[0mtitle\u001b[0m\u001b[1;33m,\u001b[0m\u001b[0mfloat\u001b[0m\u001b[1;33m(\u001b[0m\u001b[0mmovies_data\u001b[0m\u001b[1;33m[\u001b[0m\u001b[0mtitle\u001b[0m\u001b[1;33m]\u001b[0m\u001b[1;33m[\u001b[0m\u001b[1;34m\"gross\"\u001b[0m\u001b[1;33m]\u001b[0m\u001b[1;33m)\u001b[0m\u001b[1;33m]\u001b[0m\u001b[1;33m)\u001b[0m\u001b[1;33m\u001b[0m\u001b[0m\n\u001b[0;32m----> 5\u001b[0;31m     \u001b[0mresult\u001b[0m \u001b[1;33m=\u001b[0m \u001b[0msorted\u001b[0m\u001b[1;33m(\u001b[0m\u001b[0mgross\u001b[0m\u001b[1;33m,\u001b[0m \u001b[0mkey\u001b[0m\u001b[1;33m=\u001b[0m\u001b[0mitemgetter\u001b[0m\u001b[1;33m(\u001b[0m\u001b[1;36m1\u001b[0m\u001b[1;33m)\u001b[0m\u001b[1;33m,\u001b[0m \u001b[0mreverse\u001b[0m\u001b[1;33m=\u001b[0m\u001b[0mTrue\u001b[0m\u001b[1;33m)\u001b[0m\u001b[1;33m\u001b[0m\u001b[0m\n\u001b[0m\u001b[1;32m      6\u001b[0m     \u001b[1;32mreturn\u001b[0m \u001b[0mresult\u001b[0m\u001b[1;33m\u001b[0m\u001b[0m\n\u001b[1;32m      7\u001b[0m \u001b[1;33m\u001b[0m\u001b[0m\n",
      "\u001b[0;31mNameError\u001b[0m: global name 'itemgetter' is not defined"
     ]
    }
   ],
   "source": [
    "def find_grossing_movies(movies_data):\n",
    "    gross = []\n",
    "    for title in movies_data:\n",
    "        gross.append([title,float(movies_data[title][\"gross\"])])\n",
    "    result = sorted(gross, key=itemgetter(1), reverse=True)\n",
    "    return result\n",
    "\n",
    "print find_grossing_movies(movies_main)[:10]"
   ]
  }
 ],
 "metadata": {
  "anaconda-cloud": {},
  "kernelspec": {
   "display_name": "Python [conda root]",
   "language": "python",
   "name": "conda-root-py"
  },
  "language_info": {
   "codemirror_mode": {
    "name": "ipython",
    "version": 2
   },
   "file_extension": ".py",
   "mimetype": "text/x-python",
   "name": "python",
   "nbconvert_exporter": "python",
   "pygments_lexer": "ipython2",
   "version": "2.7.12"
  }
 },
 "nbformat": 4,
 "nbformat_minor": 1
}
